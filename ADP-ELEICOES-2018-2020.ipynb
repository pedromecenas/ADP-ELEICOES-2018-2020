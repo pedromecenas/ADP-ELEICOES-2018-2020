{
 "cells": [
  {
   "cell_type": "code",
   "execution_count": 1,
   "metadata": {},
   "outputs": [],
   "source": [
    "#Importando os repositorios\n",
    "\n",
    "import matplotlib.pyplot as plt\n",
    "import pandas as pd\n",
    "low_memory=False\n",
    "pd.options.display.max_columns = 80\n",
    "pd.options.display.max_rows = 90"
   ]
  },
  {
   "cell_type": "code",
   "execution_count": 2,
   "metadata": {},
   "outputs": [],
   "source": [
    "#Declarando parametros antes de inserir a base\n",
    "elei2020 = pd.read_csv('perfil_eleitorado_ATUAL.csv', delimiter = ';', encoding='iso-8859-1', usecols=['SG_UF','CD_GRAU_ESCOLARIDADE', 'QT_ELEITORES_PERFIL'])\n",
    "elei2018 = pd.read_csv('perfil_eleitorado_2018.csv', delimiter = ';', encoding='iso-8859-1', usecols=['SG_UF','CD_GRAU_ESCOLARIDADE', 'QT_ELEITORES_PERFIL'])"
   ]
  },
  {
   "cell_type": "code",
   "execution_count": 3,
   "metadata": {},
   "outputs": [],
   "source": [
    "#Renomeando colunas para melhor visualização\n",
    "elei2020.rename(columns={'SG_UF': 'ESTADO', 'CD_GRAU_ESCOLARIDADE': 'ANALFABETO', 'QT_ELEITORES_PERFIL' : 'ELEITORES'},inplace=True)\n",
    "elei2018.rename(columns={'SG_UF': 'ESTADO', 'CD_GRAU_ESCOLARIDADE': 'ANALFABETO','QT_ELEITORES_PERFIL' : 'ELEITORES'},inplace=True)"
   ]
  },
  {
   "cell_type": "code",
   "execution_count": 4,
   "metadata": {},
   "outputs": [
    {
     "data": {
      "text/plain": [
       "(4306904, 3)"
      ]
     },
     "execution_count": 4,
     "metadata": {},
     "output_type": "execute_result"
    }
   ],
   "source": [
    "elei2020.shape"
   ]
  },
  {
   "cell_type": "code",
   "execution_count": 5,
   "metadata": {},
   "outputs": [
    {
     "data": {
      "text/plain": [
       "(4181293, 3)"
      ]
     },
     "execution_count": 5,
     "metadata": {},
     "output_type": "execute_result"
    }
   ],
   "source": [
    "elei2018.shape"
   ]
  },
  {
   "cell_type": "code",
   "execution_count": 6,
   "metadata": {},
   "outputs": [
    {
     "data": {
      "text/plain": [
       "'Total de eleitorados analfabetos em 2020: 513875'"
      ]
     },
     "execution_count": 6,
     "metadata": {},
     "output_type": "execute_result"
    }
   ],
   "source": [
    "#Tratando o dado de 2020\n",
    "total2020 = elei2020.query('ANALFABETO == 1')['ESTADO'].count()\n",
    "f'Total de eleitorados analfabetos em 2020: {total2020}'"
   ]
  },
  {
   "cell_type": "code",
   "execution_count": 7,
   "metadata": {},
   "outputs": [
    {
     "data": {
      "text/plain": [
       "'Total de eleitorados analfabetos em 2018: 501569'"
      ]
     },
     "execution_count": 7,
     "metadata": {},
     "output_type": "execute_result"
    }
   ],
   "source": [
    "#Tratando o dado de 2018\n",
    "total2018 = elei2018.query('ANALFABETO == 1')['ESTADO'].count()\n",
    "f'Total de eleitorados analfabetos em 2018: {total2018}'"
   ]
  },
  {
   "cell_type": "code",
   "execution_count": 14,
   "metadata": {},
   "outputs": [
    {
     "data": {
      "text/html": [
       "<div>\n",
       "<style scoped>\n",
       "    .dataframe tbody tr th:only-of-type {\n",
       "        vertical-align: middle;\n",
       "    }\n",
       "\n",
       "    .dataframe tbody tr th {\n",
       "        vertical-align: top;\n",
       "    }\n",
       "\n",
       "    .dataframe thead th {\n",
       "        text-align: right;\n",
       "    }\n",
       "</style>\n",
       "<table border=\"1\" class=\"dataframe\">\n",
       "  <thead>\n",
       "    <tr style=\"text-align: right;\">\n",
       "      <th></th>\n",
       "      <th>ESTADO</th>\n",
       "      <th>ELEITORES</th>\n",
       "    </tr>\n",
       "  </thead>\n",
       "  <tbody>\n",
       "    <tr>\n",
       "      <th>1953088</th>\n",
       "      <td>PR</td>\n",
       "      <td>1</td>\n",
       "    </tr>\n",
       "    <tr>\n",
       "      <th>1907344</th>\n",
       "      <td>PR</td>\n",
       "      <td>1</td>\n",
       "    </tr>\n",
       "    <tr>\n",
       "      <th>1907367</th>\n",
       "      <td>PR</td>\n",
       "      <td>1</td>\n",
       "    </tr>\n",
       "    <tr>\n",
       "      <th>1907447</th>\n",
       "      <td>MG</td>\n",
       "      <td>1</td>\n",
       "    </tr>\n",
       "    <tr>\n",
       "      <th>1907486</th>\n",
       "      <td>MG</td>\n",
       "      <td>1</td>\n",
       "    </tr>\n",
       "    <tr>\n",
       "      <th>1907558</th>\n",
       "      <td>MG</td>\n",
       "      <td>1</td>\n",
       "    </tr>\n",
       "    <tr>\n",
       "      <th>1907594</th>\n",
       "      <td>MG</td>\n",
       "      <td>1</td>\n",
       "    </tr>\n",
       "    <tr>\n",
       "      <th>1907624</th>\n",
       "      <td>MG</td>\n",
       "      <td>1</td>\n",
       "    </tr>\n",
       "    <tr>\n",
       "      <th>1907686</th>\n",
       "      <td>PB</td>\n",
       "      <td>1</td>\n",
       "    </tr>\n",
       "    <tr>\n",
       "      <th>1907702</th>\n",
       "      <td>PB</td>\n",
       "      <td>1</td>\n",
       "    </tr>\n",
       "  </tbody>\n",
       "</table>\n",
       "</div>"
      ],
      "text/plain": [
       "        ESTADO  ELEITORES\n",
       "1953088     PR          1\n",
       "1907344     PR          1\n",
       "1907367     PR          1\n",
       "1907447     MG          1\n",
       "1907486     MG          1\n",
       "1907558     MG          1\n",
       "1907594     MG          1\n",
       "1907624     MG          1\n",
       "1907686     PB          1\n",
       "1907702     PB          1"
      ]
     },
     "execution_count": 14,
     "metadata": {},
     "output_type": "execute_result"
    }
   ],
   "source": [
    "elei2020.query('ANALFABETO == 1')[['ESTADO','ELEITORES']].sort_values(by='ELEITORES').head(10)"
   ]
  },
  {
   "cell_type": "code",
   "execution_count": 10,
   "metadata": {},
   "outputs": [
    {
     "data": {
      "text/html": [
       "<div>\n",
       "<style scoped>\n",
       "    .dataframe tbody tr th:only-of-type {\n",
       "        vertical-align: middle;\n",
       "    }\n",
       "\n",
       "    .dataframe tbody tr th {\n",
       "        vertical-align: top;\n",
       "    }\n",
       "\n",
       "    .dataframe thead th {\n",
       "        text-align: right;\n",
       "    }\n",
       "</style>\n",
       "<table border=\"1\" class=\"dataframe\">\n",
       "  <thead>\n",
       "    <tr style=\"text-align: right;\">\n",
       "      <th></th>\n",
       "      <th>ESTADO</th>\n",
       "      <th>ELEITORES</th>\n",
       "    </tr>\n",
       "  </thead>\n",
       "  <tbody>\n",
       "    <tr>\n",
       "      <th>6</th>\n",
       "      <td>TO</td>\n",
       "      <td>1</td>\n",
       "    </tr>\n",
       "    <tr>\n",
       "      <th>1958080</th>\n",
       "      <td>PR</td>\n",
       "      <td>1</td>\n",
       "    </tr>\n",
       "    <tr>\n",
       "      <th>1958098</th>\n",
       "      <td>MG</td>\n",
       "      <td>1</td>\n",
       "    </tr>\n",
       "    <tr>\n",
       "      <th>1958109</th>\n",
       "      <td>MG</td>\n",
       "      <td>1</td>\n",
       "    </tr>\n",
       "    <tr>\n",
       "      <th>1958136</th>\n",
       "      <td>MG</td>\n",
       "      <td>1</td>\n",
       "    </tr>\n",
       "    <tr>\n",
       "      <th>1958198</th>\n",
       "      <td>MG</td>\n",
       "      <td>1</td>\n",
       "    </tr>\n",
       "    <tr>\n",
       "      <th>1958230</th>\n",
       "      <td>MG</td>\n",
       "      <td>1</td>\n",
       "    </tr>\n",
       "    <tr>\n",
       "      <th>1958237</th>\n",
       "      <td>MG</td>\n",
       "      <td>1</td>\n",
       "    </tr>\n",
       "    <tr>\n",
       "      <th>1958308</th>\n",
       "      <td>PE</td>\n",
       "      <td>1</td>\n",
       "    </tr>\n",
       "    <tr>\n",
       "      <th>1958341</th>\n",
       "      <td>PE</td>\n",
       "      <td>1</td>\n",
       "    </tr>\n",
       "  </tbody>\n",
       "</table>\n",
       "</div>"
      ],
      "text/plain": [
       "        ESTADO  ELEITORES\n",
       "6           TO          1\n",
       "1958080     PR          1\n",
       "1958098     MG          1\n",
       "1958109     MG          1\n",
       "1958136     MG          1\n",
       "1958198     MG          1\n",
       "1958230     MG          1\n",
       "1958237     MG          1\n",
       "1958308     PE          1\n",
       "1958341     PE          1"
      ]
     },
     "execution_count": 10,
     "metadata": {},
     "output_type": "execute_result"
    }
   ],
   "source": [
    "elei2018.query('ANALFABETO == 1')[['ESTADO','ELEITORES']].sort_values(by='ELEITORES').head(10)"
   ]
  },
  {
   "cell_type": "code",
   "execution_count": 19,
   "metadata": {},
   "outputs": [
    {
     "data": {
      "image/png": "[encoded data removed]",
      "text/plain": [
       "<Figure size 720x792 with 1 Axes>"
      ]
     },
     "metadata": {},
     "output_type": "display_data"
    }
   ],
   "source": [
    "str1=['Total de eleitores','Eleitores analfabetos']\n",
    "val = [4306904,513875]\n",
    "total = sum(val)\n",
    "fig=plt.subplots(figsize=(10,11))\n",
    "explode = (0.1, 0.1)\n",
    "plt.pie(val,explode = explode , labels = str1, colors=['grey', 'red'], autopct=lambda p:'{:.0f}'.format(p * total / 100))\n",
    "plt.axis('equal')\n",
    "plt.suptitle('2020')\n",
    "plt.show()"
   ]
  },
  {
   "cell_type": "code",
   "execution_count": 21,
   "metadata": {},
   "outputs": [
    {
     "data": {
      "image/png": "[encoded data removed]",
      "text/plain": [
       "<Figure size 720x792 with 1 Axes>"
      ]
     },
     "metadata": {},
     "output_type": "display_data"
    }
   ],
   "source": [
    "str1=['Total de eleitores','Eleitores analfabetos']\n",
    "val = [4181293,501569]\n",
    "total = sum(val)\n",
    "fig=plt.subplots(figsize=(10,11))\n",
    "explode = (0.1, 0.1)\n",
    "plt.pie(val,explode = explode , labels = str1, colors=['red', 'grey'], autopct=lambda p:'{:.0f}'.format(p * total / 100))\n",
    "plt.axis('equal')\n",
    "plt.suptitle('2018')\n",
    "plt.show()"
   ]
  },
  {
   "cell_type": "code",
   "execution_count": 26,
   "metadata": {},
   "outputs": [
    {
     "name": "stderr",
     "output_type": "stream",
     "text": [
      "<ipython-input-26-0fd57a4a3f69>:1: FutureWarning: Indexing with multiple keys (implicitly converted to a tuple of keys) will be deprecated, use a list instead.\n",
      "  ranking2020 = elei2020.groupby(\"ESTADO\")[\"ELEITORES\",\"ANALFABETO\"].size().sort_values(ascending=True)\n",
      "<ipython-input-26-0fd57a4a3f69>:2: FutureWarning: Indexing with multiple keys (implicitly converted to a tuple of keys) will be deprecated, use a list instead.\n",
      "  ranking2018 = elei2018.groupby(\"ESTADO\")[\"ELEITORES\",\"ANALFABETO\"].size().sort_values(ascending=True)\n",
      "<ipython-input-26-0fd57a4a3f69>:3: FutureWarning: Indexing with multiple keys (implicitly converted to a tuple of keys) will be deprecated, use a list instead.\n",
      "  elei2020.groupby('ESTADO')[\"ELEITORES\",\"ANALFABETO\"].size().sort_values().tail(26).plot(kind='barh', figsize=(8, 10), color='#58b478', zorder=5, width=0.85, alpha=0.5)\n",
      "<ipython-input-26-0fd57a4a3f69>:4: FutureWarning: Indexing with multiple keys (implicitly converted to a tuple of keys) will be deprecated, use a list instead.\n",
      "  elei2018.groupby('ESTADO')[\"ELEITORES\",\"ANALFABETO\"].size().sort_values().tail(26).plot(kind='barh', figsize=(8, 10), color='#d4503c', zorder=5, width=0.85, alpha=1)\n"
     ]
    },
    {
     "data": {
      "text/plain": [
       "Text(0.5, 1.0, 'Comparação de candidaturas canceladas nos estados brasileiros em 2016 e 2020.')"
      ]
     },
     "execution_count": 26,
     "metadata": {},
     "output_type": "execute_result"
    },
    {
     "data": {
      "image/png": "[encoded data removed]",
      "text/plain": [
       "<Figure size 576x720 with 1 Axes>"
      ]
     },
     "metadata": {
      "needs_background": "light"
     },
     "output_type": "display_data"
    }
   ],
   "source": [
    "ranking2020 = elei2020.groupby(\"ESTADO\")[\"ELEITORES\",\"ANALFABETO\"].size().sort_values(ascending=False)\n",
    "ranking2018 = elei2018.groupby(\"ESTADO\")[\"ELEITORES\",\"ANALFABETO\"].size().sort_values(ascending=False)\n",
    "elei2020.groupby('ESTADO')[\"ELEITORES\",\"ANALFABETO\"].size().sort_values().tail(26).plot(kind='barh', figsize=(8, 10), color='#58b478', zorder=5, width=0.85, alpha=0.5)\n",
    "elei2018.groupby('ESTADO')[\"ELEITORES\",\"ANALFABETO\"].size().sort_values().tail(26).plot(kind='barh', figsize=(8, 10), color='#d4503c', zorder=5, width=0.85, alpha=1)\n",
    "plt.legend([\"2020\", \"2018\"], loc='right')\n",
    "plt.title(\"Comparação de candidaturas canceladas nos estados brasileiros em 2016 e 2020.\")"
   ]
  },
  {
   "cell_type": "code",
   "execution_count": null,
   "metadata": {},
   "outputs": [],
   "source": []
  }
 ],
 "metadata": {
  "kernelspec": {
   "display_name": "Python 3",
   "language": "python",
   "name": "python3"
  },
  "language_info": {
   "codemirror_mode": {
    "name": "ipython",
    "version": 3
   },
   "file_extension": ".py",
   "mimetype": "text/x-python",
   "name": "python",
   "nbconvert_exporter": "python",
   "pygments_lexer": "ipython3",
   "version": "3.9.0"
  }
 },
 "nbformat": 4,
 "nbformat_minor": 4
}
